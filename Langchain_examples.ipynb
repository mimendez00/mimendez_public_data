{
  "nbformat": 4,
  "nbformat_minor": 0,
  "metadata": {
    "colab": {
      "provenance": [],
      "mount_file_id": "1ofHuHb5VlRRBU0EnRXTflgqBYtCeE-Lh",
      "authorship_tag": "ABX9TyMcSILvIz83NGNo0x5/yixO",
      "include_colab_link": true
    },
    "kernelspec": {
      "name": "python3",
      "display_name": "Python 3"
    },
    "language_info": {
      "name": "python"
    }
  },
  "cells": [
    {
      "cell_type": "markdown",
      "metadata": {
        "id": "view-in-github",
        "colab_type": "text"
      },
      "source": [
        "<a href=\"https://colab.research.google.com/github/mimendez00/mimendez_public_data/blob/main/Langchain_examples.ipynb\" target=\"_parent\"><img src=\"https://colab.research.google.com/assets/colab-badge.svg\" alt=\"Open In Colab\"/></a>"
      ]
    },
    {
      "cell_type": "code",
      "source": [
        "import os\n",
        "os.environ['OPENAI_API_KEY'] = \"\"\n",
        "os.environ['COHERE_API_KEY'] = \"\""
      ],
      "metadata": {
        "id": "FwPW7-0G4Xlc"
      },
      "execution_count": 200,
      "outputs": []
    },
    {
      "cell_type": "code",
      "execution_count": 40,
      "metadata": {
        "colab": {
          "base_uri": "https://localhost:8080/",
          "height": 1000
        },
        "id": "b0ylAgvNpqv5",
        "outputId": "08ac11c9-a092-4a8a-bac0-b3280af17023"
      },
      "outputs": [
        {
          "output_type": "stream",
          "name": "stdout",
          "text": [
            "Looking in indexes: https://pypi.org/simple, https://us-python.pkg.dev/colab-wheels/public/simple/\n",
            "Requirement already satisfied: unstructured[local-inference] in /usr/local/lib/python3.8/dist-packages (0.5.2)\n",
            "Requirement already satisfied: python-magic in /usr/local/lib/python3.8/dist-packages (from unstructured[local-inference]) (0.4.27)\n",
            "Requirement already satisfied: requests in /usr/local/lib/python3.8/dist-packages (from unstructured[local-inference]) (2.25.1)\n",
            "Requirement already satisfied: markdown in /usr/local/lib/python3.8/dist-packages (from unstructured[local-inference]) (3.4.1)\n",
            "Requirement already satisfied: python-docx in /usr/local/lib/python3.8/dist-packages (from unstructured[local-inference]) (0.8.11)\n",
            "Requirement already satisfied: argilla in /usr/local/lib/python3.8/dist-packages (from unstructured[local-inference]) (1.3.1)\n",
            "Requirement already satisfied: certifi>=2022.12.07 in /usr/local/lib/python3.8/dist-packages (from unstructured[local-inference]) (2022.12.7)\n",
            "Requirement already satisfied: pandas in /usr/local/lib/python3.8/dist-packages (from unstructured[local-inference]) (1.3.5)\n",
            "Requirement already satisfied: pillow in /usr/local/lib/python3.8/dist-packages (from unstructured[local-inference]) (9.4.0)\n",
            "Requirement already satisfied: python-pptx in /usr/local/lib/python3.8/dist-packages (from unstructured[local-inference]) (0.6.21)\n",
            "Requirement already satisfied: openpyxl in /usr/local/lib/python3.8/dist-packages (from unstructured[local-inference]) (3.0.10)\n",
            "Requirement already satisfied: lxml in /usr/local/lib/python3.8/dist-packages (from unstructured[local-inference]) (4.9.2)\n",
            "Requirement already satisfied: nltk in /usr/local/lib/python3.8/dist-packages (from unstructured[local-inference]) (3.7)\n",
            "Requirement already satisfied: unstructured-inference<0.2.8,>=0.2.4 in /usr/local/lib/python3.8/dist-packages (from unstructured[local-inference]) (0.2.7)\n",
            "Requirement already satisfied: huggingface-hub in /usr/local/lib/python3.8/dist-packages (from unstructured-inference<0.2.8,>=0.2.4->unstructured[local-inference]) (0.12.1)\n",
            "Requirement already satisfied: onnxruntime in /usr/local/lib/python3.8/dist-packages (from unstructured-inference<0.2.8,>=0.2.4->unstructured[local-inference]) (1.14.1)\n",
            "Requirement already satisfied: uvicorn in /usr/local/lib/python3.8/dist-packages (from unstructured-inference<0.2.8,>=0.2.4->unstructured[local-inference]) (0.20.0)\n",
            "Requirement already satisfied: opencv-python==4.6.0.66 in /usr/local/lib/python3.8/dist-packages (from unstructured-inference<0.2.8,>=0.2.4->unstructured[local-inference]) (4.6.0.66)\n",
            "Requirement already satisfied: jsons in /usr/local/lib/python3.8/dist-packages (from unstructured-inference<0.2.8,>=0.2.4->unstructured[local-inference]) (1.6.3)\n",
            "Requirement already satisfied: fastapi in /usr/local/lib/python3.8/dist-packages (from unstructured-inference<0.2.8,>=0.2.4->unstructured[local-inference]) (0.93.0)\n",
            "Requirement already satisfied: python-multipart in /usr/local/lib/python3.8/dist-packages (from unstructured-inference<0.2.8,>=0.2.4->unstructured[local-inference]) (0.0.6)\n",
            "Requirement already satisfied: layoutparser[layoutmodels,tesseract] in /usr/local/lib/python3.8/dist-packages (from unstructured-inference<0.2.8,>=0.2.4->unstructured[local-inference]) (0.3.4)\n",
            "Requirement already satisfied: transformers in /usr/local/lib/python3.8/dist-packages (from unstructured-inference<0.2.8,>=0.2.4->unstructured[local-inference]) (4.26.1)\n",
            "Requirement already satisfied: numpy>=1.17.3 in /usr/local/lib/python3.8/dist-packages (from opencv-python==4.6.0.66->unstructured-inference<0.2.8,>=0.2.4->unstructured[local-inference]) (1.22.4)\n",
            "Requirement already satisfied: pydantic>=1.7.1 in /usr/local/lib/python3.8/dist-packages (from argilla->unstructured[local-inference]) (1.10.5)\n",
            "Requirement already satisfied: packaging>=20.0 in /usr/local/lib/python3.8/dist-packages (from argilla->unstructured[local-inference]) (23.0)\n",
            "Requirement already satisfied: tqdm>=4.27.0 in /usr/local/lib/python3.8/dist-packages (from argilla->unstructured[local-inference]) (4.64.1)\n",
            "Requirement already satisfied: backoff in /usr/local/lib/python3.8/dist-packages (from argilla->unstructured[local-inference]) (2.2.1)\n",
            "Requirement already satisfied: httpx<0.24,>=0.15 in /usr/local/lib/python3.8/dist-packages (from argilla->unstructured[local-inference]) (0.23.3)\n",
            "Requirement already satisfied: wrapt<1.15,>=1.13 in /usr/local/lib/python3.8/dist-packages (from argilla->unstructured[local-inference]) (1.14.1)\n",
            "Requirement already satisfied: deprecated~=1.2.0 in /usr/local/lib/python3.8/dist-packages (from argilla->unstructured[local-inference]) (1.2.13)\n",
            "Requirement already satisfied: monotonic in /usr/local/lib/python3.8/dist-packages (from argilla->unstructured[local-inference]) (1.6)\n",
            "Requirement already satisfied: pytz>=2017.3 in /usr/local/lib/python3.8/dist-packages (from pandas->unstructured[local-inference]) (2022.7.1)\n",
            "Requirement already satisfied: python-dateutil>=2.7.3 in /usr/local/lib/python3.8/dist-packages (from pandas->unstructured[local-inference]) (2.8.2)\n",
            "Requirement already satisfied: importlib-metadata>=4.4 in /usr/local/lib/python3.8/dist-packages (from markdown->unstructured[local-inference]) (6.0.0)\n",
            "Requirement already satisfied: joblib in /usr/local/lib/python3.8/dist-packages (from nltk->unstructured[local-inference]) (1.2.0)\n",
            "Requirement already satisfied: click in /usr/local/lib/python3.8/dist-packages (from nltk->unstructured[local-inference]) (8.1.3)\n",
            "Requirement already satisfied: regex>=2021.8.3 in /usr/local/lib/python3.8/dist-packages (from nltk->unstructured[local-inference]) (2022.6.2)\n",
            "Requirement already satisfied: et-xmlfile in /usr/local/lib/python3.8/dist-packages (from openpyxl->unstructured[local-inference]) (1.1.0)\n",
            "Requirement already satisfied: XlsxWriter>=0.5.7 in /usr/local/lib/python3.8/dist-packages (from python-pptx->unstructured[local-inference]) (3.0.8)\n",
            "Requirement already satisfied: idna<3,>=2.5 in /usr/local/lib/python3.8/dist-packages (from requests->unstructured[local-inference]) (2.10)\n",
            "Requirement already satisfied: chardet<5,>=3.0.2 in /usr/local/lib/python3.8/dist-packages (from requests->unstructured[local-inference]) (4.0.0)\n",
            "Requirement already satisfied: urllib3<1.27,>=1.21.1 in /usr/local/lib/python3.8/dist-packages (from requests->unstructured[local-inference]) (1.26.14)\n",
            "Requirement already satisfied: httpcore<0.17.0,>=0.15.0 in /usr/local/lib/python3.8/dist-packages (from httpx<0.24,>=0.15->argilla->unstructured[local-inference]) (0.16.3)\n",
            "Requirement already satisfied: sniffio in /usr/local/lib/python3.8/dist-packages (from httpx<0.24,>=0.15->argilla->unstructured[local-inference]) (1.3.0)\n",
            "Requirement already satisfied: rfc3986[idna2008]<2,>=1.3 in /usr/local/lib/python3.8/dist-packages (from httpx<0.24,>=0.15->argilla->unstructured[local-inference]) (1.5.0)\n",
            "Requirement already satisfied: zipp>=0.5 in /usr/local/lib/python3.8/dist-packages (from importlib-metadata>=4.4->markdown->unstructured[local-inference]) (3.15.0)\n",
            "Requirement already satisfied: typing-extensions>=4.2.0 in /usr/local/lib/python3.8/dist-packages (from pydantic>=1.7.1->argilla->unstructured[local-inference]) (4.5.0)\n",
            "Requirement already satisfied: six>=1.5 in /usr/local/lib/python3.8/dist-packages (from python-dateutil>=2.7.3->pandas->unstructured[local-inference]) (1.15.0)\n",
            "Requirement already satisfied: starlette<0.26.0,>=0.25.0 in /usr/local/lib/python3.8/dist-packages (from fastapi->unstructured-inference<0.2.8,>=0.2.4->unstructured[local-inference]) (0.25.0)\n",
            "Requirement already satisfied: pyyaml>=5.1 in /usr/local/lib/python3.8/dist-packages (from huggingface-hub->unstructured-inference<0.2.8,>=0.2.4->unstructured[local-inference]) (6.0)\n",
            "Requirement already satisfied: filelock in /usr/local/lib/python3.8/dist-packages (from huggingface-hub->unstructured-inference<0.2.8,>=0.2.4->unstructured[local-inference]) (3.9.0)\n",
            "Requirement already satisfied: typish>=1.9.2 in /usr/local/lib/python3.8/dist-packages (from jsons->unstructured-inference<0.2.8,>=0.2.4->unstructured[local-inference]) (1.9.3)\n",
            "Requirement already satisfied: pdf2image in /usr/local/lib/python3.8/dist-packages (from layoutparser[layoutmodels,tesseract]->unstructured-inference<0.2.8,>=0.2.4->unstructured[local-inference]) (1.16.3)\n",
            "Requirement already satisfied: scipy in /usr/local/lib/python3.8/dist-packages (from layoutparser[layoutmodels,tesseract]->unstructured-inference<0.2.8,>=0.2.4->unstructured[local-inference]) (1.10.1)\n",
            "Requirement already satisfied: pdfplumber in /usr/local/lib/python3.8/dist-packages (from layoutparser[layoutmodels,tesseract]->unstructured-inference<0.2.8,>=0.2.4->unstructured[local-inference]) (0.8.0)\n",
            "Requirement already satisfied: iopath in /usr/local/lib/python3.8/dist-packages (from layoutparser[layoutmodels,tesseract]->unstructured-inference<0.2.8,>=0.2.4->unstructured[local-inference]) (0.1.9)\n",
            "Requirement already satisfied: pytesseract in /usr/local/lib/python3.8/dist-packages (from layoutparser[layoutmodels,tesseract]->unstructured-inference<0.2.8,>=0.2.4->unstructured[local-inference]) (0.3.10)\n",
            "Requirement already satisfied: torch in /usr/local/lib/python3.8/dist-packages (from layoutparser[layoutmodels,tesseract]->unstructured-inference<0.2.8,>=0.2.4->unstructured[local-inference]) (1.13.1+cu116)\n",
            "Requirement already satisfied: effdet in /usr/local/lib/python3.8/dist-packages (from layoutparser[layoutmodels,tesseract]->unstructured-inference<0.2.8,>=0.2.4->unstructured[local-inference]) (0.3.0)\n",
            "Requirement already satisfied: torchvision in /usr/local/lib/python3.8/dist-packages (from layoutparser[layoutmodels,tesseract]->unstructured-inference<0.2.8,>=0.2.4->unstructured[local-inference]) (0.14.1+cu116)\n",
            "Requirement already satisfied: coloredlogs in /usr/local/lib/python3.8/dist-packages (from onnxruntime->unstructured-inference<0.2.8,>=0.2.4->unstructured[local-inference]) (15.0.1)\n",
            "Requirement already satisfied: protobuf in /usr/local/lib/python3.8/dist-packages (from onnxruntime->unstructured-inference<0.2.8,>=0.2.4->unstructured[local-inference]) (3.19.6)\n",
            "Requirement already satisfied: sympy in /usr/local/lib/python3.8/dist-packages (from onnxruntime->unstructured-inference<0.2.8,>=0.2.4->unstructured[local-inference]) (1.7.1)\n",
            "Requirement already satisfied: flatbuffers in /usr/local/lib/python3.8/dist-packages (from onnxruntime->unstructured-inference<0.2.8,>=0.2.4->unstructured[local-inference]) (23.1.21)\n",
            "Requirement already satisfied: tokenizers!=0.11.3,<0.14,>=0.11.1 in /usr/local/lib/python3.8/dist-packages (from transformers->unstructured-inference<0.2.8,>=0.2.4->unstructured[local-inference]) (0.13.2)\n",
            "Requirement already satisfied: h11>=0.8 in /usr/local/lib/python3.8/dist-packages (from uvicorn->unstructured-inference<0.2.8,>=0.2.4->unstructured[local-inference]) (0.14.0)\n",
            "Requirement already satisfied: anyio<5.0,>=3.0 in /usr/local/lib/python3.8/dist-packages (from httpcore<0.17.0,>=0.15.0->httpx<0.24,>=0.15->argilla->unstructured[local-inference]) (3.6.2)\n",
            "Requirement already satisfied: humanfriendly>=9.1 in /usr/local/lib/python3.8/dist-packages (from coloredlogs->onnxruntime->unstructured-inference<0.2.8,>=0.2.4->unstructured[local-inference]) (10.0)\n",
            "Requirement already satisfied: timm>=0.4.12 in /usr/local/lib/python3.8/dist-packages (from effdet->layoutparser[layoutmodels,tesseract]->unstructured-inference<0.2.8,>=0.2.4->unstructured[local-inference]) (0.6.12)\n",
            "Requirement already satisfied: omegaconf>=2.0 in /usr/local/lib/python3.8/dist-packages (from effdet->layoutparser[layoutmodels,tesseract]->unstructured-inference<0.2.8,>=0.2.4->unstructured[local-inference]) (2.3.0)\n",
            "Requirement already satisfied: pycocotools>=2.0.2 in /usr/local/lib/python3.8/dist-packages (from effdet->layoutparser[layoutmodels,tesseract]->unstructured-inference<0.2.8,>=0.2.4->unstructured[local-inference]) (2.0.6)\n",
            "Requirement already satisfied: portalocker in /usr/local/lib/python3.8/dist-packages (from iopath->layoutparser[layoutmodels,tesseract]->unstructured-inference<0.2.8,>=0.2.4->unstructured[local-inference]) (2.7.0)\n",
            "Requirement already satisfied: pdfminer.six==20221105 in /usr/local/lib/python3.8/dist-packages (from pdfplumber->layoutparser[layoutmodels,tesseract]->unstructured-inference<0.2.8,>=0.2.4->unstructured[local-inference]) (20221105)\n",
            "Requirement already satisfied: Wand>=0.6.10 in /usr/local/lib/python3.8/dist-packages (from pdfplumber->layoutparser[layoutmodels,tesseract]->unstructured-inference<0.2.8,>=0.2.4->unstructured[local-inference]) (0.6.11)\n",
            "Requirement already satisfied: cryptography>=36.0.0 in /usr/local/lib/python3.8/dist-packages (from pdfminer.six==20221105->pdfplumber->layoutparser[layoutmodels,tesseract]->unstructured-inference<0.2.8,>=0.2.4->unstructured[local-inference]) (39.0.2)\n",
            "Requirement already satisfied: charset-normalizer>=2.0.0 in /usr/local/lib/python3.8/dist-packages (from pdfminer.six==20221105->pdfplumber->layoutparser[layoutmodels,tesseract]->unstructured-inference<0.2.8,>=0.2.4->unstructured[local-inference]) (3.0.1)\n",
            "Requirement already satisfied: mpmath>=0.19 in /usr/local/lib/python3.8/dist-packages (from sympy->onnxruntime->unstructured-inference<0.2.8,>=0.2.4->unstructured[local-inference]) (1.2.1)\n",
            "Requirement already satisfied: antlr4-python3-runtime==4.9.* in /usr/local/lib/python3.8/dist-packages (from omegaconf>=2.0->effdet->layoutparser[layoutmodels,tesseract]->unstructured-inference<0.2.8,>=0.2.4->unstructured[local-inference]) (4.9.3)\n",
            "Requirement already satisfied: matplotlib>=2.1.0 in /usr/local/lib/python3.8/dist-packages (from pycocotools>=2.0.2->effdet->layoutparser[layoutmodels,tesseract]->unstructured-inference<0.2.8,>=0.2.4->unstructured[local-inference]) (3.5.3)\n",
            "Requirement already satisfied: cffi>=1.12 in /usr/local/lib/python3.8/dist-packages (from cryptography>=36.0.0->pdfminer.six==20221105->pdfplumber->layoutparser[layoutmodels,tesseract]->unstructured-inference<0.2.8,>=0.2.4->unstructured[local-inference]) (1.15.1)\n",
            "Requirement already satisfied: cycler>=0.10 in /usr/local/lib/python3.8/dist-packages (from matplotlib>=2.1.0->pycocotools>=2.0.2->effdet->layoutparser[layoutmodels,tesseract]->unstructured-inference<0.2.8,>=0.2.4->unstructured[local-inference]) (0.11.0)\n",
            "Requirement already satisfied: pyparsing>=2.2.1 in /usr/local/lib/python3.8/dist-packages (from matplotlib>=2.1.0->pycocotools>=2.0.2->effdet->layoutparser[layoutmodels,tesseract]->unstructured-inference<0.2.8,>=0.2.4->unstructured[local-inference]) (3.0.9)\n",
            "Requirement already satisfied: kiwisolver>=1.0.1 in /usr/local/lib/python3.8/dist-packages (from matplotlib>=2.1.0->pycocotools>=2.0.2->effdet->layoutparser[layoutmodels,tesseract]->unstructured-inference<0.2.8,>=0.2.4->unstructured[local-inference]) (1.4.4)\n",
            "Requirement already satisfied: fonttools>=4.22.0 in /usr/local/lib/python3.8/dist-packages (from matplotlib>=2.1.0->pycocotools>=2.0.2->effdet->layoutparser[layoutmodels,tesseract]->unstructured-inference<0.2.8,>=0.2.4->unstructured[local-inference]) (4.38.0)\n",
            "Requirement already satisfied: pycparser in /usr/local/lib/python3.8/dist-packages (from cffi>=1.12->cryptography>=36.0.0->pdfminer.six==20221105->pdfplumber->layoutparser[layoutmodels,tesseract]->unstructured-inference<0.2.8,>=0.2.4->unstructured[local-inference]) (2.21)\n",
            "Looking in indexes: https://pypi.org/simple, https://us-python.pkg.dev/colab-wheels/public/simple/\n",
            "Collecting detectron2@ git+https://github.com/facebookresearch/detectron2.git@v0.6#egg=detectron2\n",
            "  Cloning https://github.com/facebookresearch/detectron2.git (to revision v0.6) to /tmp/pip-install-akqu_m77/detectron2_40e1deec26f949a4a3877ddba634c2a9\n",
            "  Running command git clone --filter=blob:none --quiet https://github.com/facebookresearch/detectron2.git /tmp/pip-install-akqu_m77/detectron2_40e1deec26f949a4a3877ddba634c2a9\n",
            "  Running command git checkout -q d1e04565d3bec8719335b88be9e9b961bf3ec464\n",
            "  Resolved https://github.com/facebookresearch/detectron2.git to commit d1e04565d3bec8719335b88be9e9b961bf3ec464\n",
            "  Preparing metadata (setup.py) ... \u001b[?25l\u001b[?25hdone\n",
            "Requirement already satisfied: Pillow>=7.1 in /usr/local/lib/python3.8/dist-packages (from detectron2@ git+https://github.com/facebookresearch/detectron2.git@v0.6#egg=detectron2) (9.4.0)\n",
            "Requirement already satisfied: matplotlib in /usr/local/lib/python3.8/dist-packages (from detectron2@ git+https://github.com/facebookresearch/detectron2.git@v0.6#egg=detectron2) (3.5.3)\n",
            "Requirement already satisfied: pycocotools>=2.0.2 in /usr/local/lib/python3.8/dist-packages (from detectron2@ git+https://github.com/facebookresearch/detectron2.git@v0.6#egg=detectron2) (2.0.6)\n",
            "Requirement already satisfied: termcolor>=1.1 in /usr/local/lib/python3.8/dist-packages (from detectron2@ git+https://github.com/facebookresearch/detectron2.git@v0.6#egg=detectron2) (2.2.0)\n",
            "Requirement already satisfied: yacs>=0.1.8 in /usr/local/lib/python3.8/dist-packages (from detectron2@ git+https://github.com/facebookresearch/detectron2.git@v0.6#egg=detectron2) (0.1.8)\n",
            "Requirement already satisfied: tabulate in /usr/local/lib/python3.8/dist-packages (from detectron2@ git+https://github.com/facebookresearch/detectron2.git@v0.6#egg=detectron2) (0.8.10)\n",
            "Requirement already satisfied: cloudpickle in /usr/local/lib/python3.8/dist-packages (from detectron2@ git+https://github.com/facebookresearch/detectron2.git@v0.6#egg=detectron2) (2.2.1)\n",
            "Requirement already satisfied: tqdm>4.29.0 in /usr/local/lib/python3.8/dist-packages (from detectron2@ git+https://github.com/facebookresearch/detectron2.git@v0.6#egg=detectron2) (4.64.1)\n",
            "Requirement already satisfied: tensorboard in /usr/local/lib/python3.8/dist-packages (from detectron2@ git+https://github.com/facebookresearch/detectron2.git@v0.6#egg=detectron2) (2.11.2)\n",
            "Requirement already satisfied: fvcore<0.1.6,>=0.1.5 in /usr/local/lib/python3.8/dist-packages (from detectron2@ git+https://github.com/facebookresearch/detectron2.git@v0.6#egg=detectron2) (0.1.5.post20221221)\n",
            "Requirement already satisfied: iopath<0.1.10,>=0.1.7 in /usr/local/lib/python3.8/dist-packages (from detectron2@ git+https://github.com/facebookresearch/detectron2.git@v0.6#egg=detectron2) (0.1.9)\n",
            "Requirement already satisfied: future in /usr/local/lib/python3.8/dist-packages (from detectron2@ git+https://github.com/facebookresearch/detectron2.git@v0.6#egg=detectron2) (0.16.0)\n",
            "Requirement already satisfied: pydot in /usr/local/lib/python3.8/dist-packages (from detectron2@ git+https://github.com/facebookresearch/detectron2.git@v0.6#egg=detectron2) (1.3.0)\n",
            "Requirement already satisfied: omegaconf>=2.1 in /usr/local/lib/python3.8/dist-packages (from detectron2@ git+https://github.com/facebookresearch/detectron2.git@v0.6#egg=detectron2) (2.3.0)\n",
            "Requirement already satisfied: hydra-core>=1.1 in /usr/local/lib/python3.8/dist-packages (from detectron2@ git+https://github.com/facebookresearch/detectron2.git@v0.6#egg=detectron2) (1.3.2)\n",
            "Requirement already satisfied: black==21.4b2 in /usr/local/lib/python3.8/dist-packages (from detectron2@ git+https://github.com/facebookresearch/detectron2.git@v0.6#egg=detectron2) (21.4b2)\n",
            "Requirement already satisfied: click>=7.1.2 in /usr/local/lib/python3.8/dist-packages (from black==21.4b2->detectron2@ git+https://github.com/facebookresearch/detectron2.git@v0.6#egg=detectron2) (8.1.3)\n",
            "Requirement already satisfied: appdirs in /usr/local/lib/python3.8/dist-packages (from black==21.4b2->detectron2@ git+https://github.com/facebookresearch/detectron2.git@v0.6#egg=detectron2) (1.4.4)\n",
            "Requirement already satisfied: regex>=2020.1.8 in /usr/local/lib/python3.8/dist-packages (from black==21.4b2->detectron2@ git+https://github.com/facebookresearch/detectron2.git@v0.6#egg=detectron2) (2022.6.2)\n",
            "Requirement already satisfied: pathspec<1,>=0.8.1 in /usr/local/lib/python3.8/dist-packages (from black==21.4b2->detectron2@ git+https://github.com/facebookresearch/detectron2.git@v0.6#egg=detectron2) (0.11.0)\n",
            "Requirement already satisfied: mypy-extensions>=0.4.3 in /usr/local/lib/python3.8/dist-packages (from black==21.4b2->detectron2@ git+https://github.com/facebookresearch/detectron2.git@v0.6#egg=detectron2) (1.0.0)\n",
            "Requirement already satisfied: toml>=0.10.1 in /usr/local/lib/python3.8/dist-packages (from black==21.4b2->detectron2@ git+https://github.com/facebookresearch/detectron2.git@v0.6#egg=detectron2) (0.10.2)\n",
            "Requirement already satisfied: numpy in /usr/local/lib/python3.8/dist-packages (from fvcore<0.1.6,>=0.1.5->detectron2@ git+https://github.com/facebookresearch/detectron2.git@v0.6#egg=detectron2) (1.22.4)\n",
            "Requirement already satisfied: pyyaml>=5.1 in /usr/local/lib/python3.8/dist-packages (from fvcore<0.1.6,>=0.1.5->detectron2@ git+https://github.com/facebookresearch/detectron2.git@v0.6#egg=detectron2) (6.0)\n",
            "Requirement already satisfied: packaging in /usr/local/lib/python3.8/dist-packages (from hydra-core>=1.1->detectron2@ git+https://github.com/facebookresearch/detectron2.git@v0.6#egg=detectron2) (23.0)\n",
            "Requirement already satisfied: antlr4-python3-runtime==4.9.* in /usr/local/lib/python3.8/dist-packages (from hydra-core>=1.1->detectron2@ git+https://github.com/facebookresearch/detectron2.git@v0.6#egg=detectron2) (4.9.3)\n",
            "Requirement already satisfied: importlib-resources in /usr/local/lib/python3.8/dist-packages (from hydra-core>=1.1->detectron2@ git+https://github.com/facebookresearch/detectron2.git@v0.6#egg=detectron2) (5.12.0)\n",
            "Requirement already satisfied: portalocker in /usr/local/lib/python3.8/dist-packages (from iopath<0.1.10,>=0.1.7->detectron2@ git+https://github.com/facebookresearch/detectron2.git@v0.6#egg=detectron2) (2.7.0)\n",
            "Requirement already satisfied: kiwisolver>=1.0.1 in /usr/local/lib/python3.8/dist-packages (from matplotlib->detectron2@ git+https://github.com/facebookresearch/detectron2.git@v0.6#egg=detectron2) (1.4.4)\n",
            "Requirement already satisfied: pyparsing>=2.2.1 in /usr/local/lib/python3.8/dist-packages (from matplotlib->detectron2@ git+https://github.com/facebookresearch/detectron2.git@v0.6#egg=detectron2) (3.0.9)\n",
            "Requirement already satisfied: cycler>=0.10 in /usr/local/lib/python3.8/dist-packages (from matplotlib->detectron2@ git+https://github.com/facebookresearch/detectron2.git@v0.6#egg=detectron2) (0.11.0)\n",
            "Requirement already satisfied: fonttools>=4.22.0 in /usr/local/lib/python3.8/dist-packages (from matplotlib->detectron2@ git+https://github.com/facebookresearch/detectron2.git@v0.6#egg=detectron2) (4.38.0)\n",
            "Requirement already satisfied: python-dateutil>=2.7 in /usr/local/lib/python3.8/dist-packages (from matplotlib->detectron2@ git+https://github.com/facebookresearch/detectron2.git@v0.6#egg=detectron2) (2.8.2)\n",
            "Requirement already satisfied: google-auth-oauthlib<0.5,>=0.4.1 in /usr/local/lib/python3.8/dist-packages (from tensorboard->detectron2@ git+https://github.com/facebookresearch/detectron2.git@v0.6#egg=detectron2) (0.4.6)\n",
            "Requirement already satisfied: setuptools>=41.0.0 in /usr/local/lib/python3.8/dist-packages (from tensorboard->detectron2@ git+https://github.com/facebookresearch/detectron2.git@v0.6#egg=detectron2) (57.4.0)\n",
            "Requirement already satisfied: tensorboard-data-server<0.7.0,>=0.6.0 in /usr/local/lib/python3.8/dist-packages (from tensorboard->detectron2@ git+https://github.com/facebookresearch/detectron2.git@v0.6#egg=detectron2) (0.6.1)\n",
            "Requirement already satisfied: wheel>=0.26 in /usr/local/lib/python3.8/dist-packages (from tensorboard->detectron2@ git+https://github.com/facebookresearch/detectron2.git@v0.6#egg=detectron2) (0.38.4)\n",
            "Requirement already satisfied: protobuf<4,>=3.9.2 in /usr/local/lib/python3.8/dist-packages (from tensorboard->detectron2@ git+https://github.com/facebookresearch/detectron2.git@v0.6#egg=detectron2) (3.19.6)\n",
            "Requirement already satisfied: google-auth<3,>=1.6.3 in /usr/local/lib/python3.8/dist-packages (from tensorboard->detectron2@ git+https://github.com/facebookresearch/detectron2.git@v0.6#egg=detectron2) (2.16.2)\n",
            "Requirement already satisfied: markdown>=2.6.8 in /usr/local/lib/python3.8/dist-packages (from tensorboard->detectron2@ git+https://github.com/facebookresearch/detectron2.git@v0.6#egg=detectron2) (3.4.1)\n",
            "Requirement already satisfied: requests<3,>=2.21.0 in /usr/local/lib/python3.8/dist-packages (from tensorboard->detectron2@ git+https://github.com/facebookresearch/detectron2.git@v0.6#egg=detectron2) (2.25.1)\n",
            "Requirement already satisfied: werkzeug>=1.0.1 in /usr/local/lib/python3.8/dist-packages (from tensorboard->detectron2@ git+https://github.com/facebookresearch/detectron2.git@v0.6#egg=detectron2) (2.2.3)\n",
            "Requirement already satisfied: tensorboard-plugin-wit>=1.6.0 in /usr/local/lib/python3.8/dist-packages (from tensorboard->detectron2@ git+https://github.com/facebookresearch/detectron2.git@v0.6#egg=detectron2) (1.8.1)\n",
            "Requirement already satisfied: absl-py>=0.4 in /usr/local/lib/python3.8/dist-packages (from tensorboard->detectron2@ git+https://github.com/facebookresearch/detectron2.git@v0.6#egg=detectron2) (1.4.0)\n",
            "Requirement already satisfied: grpcio>=1.24.3 in /usr/local/lib/python3.8/dist-packages (from tensorboard->detectron2@ git+https://github.com/facebookresearch/detectron2.git@v0.6#egg=detectron2) (1.51.3)\n",
            "Requirement already satisfied: cachetools<6.0,>=2.0.0 in /usr/local/lib/python3.8/dist-packages (from google-auth<3,>=1.6.3->tensorboard->detectron2@ git+https://github.com/facebookresearch/detectron2.git@v0.6#egg=detectron2) (5.3.0)\n",
            "Requirement already satisfied: six>=1.9.0 in /usr/local/lib/python3.8/dist-packages (from google-auth<3,>=1.6.3->tensorboard->detectron2@ git+https://github.com/facebookresearch/detectron2.git@v0.6#egg=detectron2) (1.15.0)\n",
            "Requirement already satisfied: pyasn1-modules>=0.2.1 in /usr/local/lib/python3.8/dist-packages (from google-auth<3,>=1.6.3->tensorboard->detectron2@ git+https://github.com/facebookresearch/detectron2.git@v0.6#egg=detectron2) (0.2.8)\n",
            "Requirement already satisfied: rsa<5,>=3.1.4 in /usr/local/lib/python3.8/dist-packages (from google-auth<3,>=1.6.3->tensorboard->detectron2@ git+https://github.com/facebookresearch/detectron2.git@v0.6#egg=detectron2) (4.9)\n",
            "Requirement already satisfied: requests-oauthlib>=0.7.0 in /usr/local/lib/python3.8/dist-packages (from google-auth-oauthlib<0.5,>=0.4.1->tensorboard->detectron2@ git+https://github.com/facebookresearch/detectron2.git@v0.6#egg=detectron2) (1.3.1)\n",
            "Requirement already satisfied: importlib-metadata>=4.4 in /usr/local/lib/python3.8/dist-packages (from markdown>=2.6.8->tensorboard->detectron2@ git+https://github.com/facebookresearch/detectron2.git@v0.6#egg=detectron2) (6.0.0)\n",
            "Requirement already satisfied: chardet<5,>=3.0.2 in /usr/local/lib/python3.8/dist-packages (from requests<3,>=2.21.0->tensorboard->detectron2@ git+https://github.com/facebookresearch/detectron2.git@v0.6#egg=detectron2) (4.0.0)\n",
            "Requirement already satisfied: certifi>=2017.4.17 in /usr/local/lib/python3.8/dist-packages (from requests<3,>=2.21.0->tensorboard->detectron2@ git+https://github.com/facebookresearch/detectron2.git@v0.6#egg=detectron2) (2022.12.7)\n",
            "Requirement already satisfied: idna<3,>=2.5 in /usr/local/lib/python3.8/dist-packages (from requests<3,>=2.21.0->tensorboard->detectron2@ git+https://github.com/facebookresearch/detectron2.git@v0.6#egg=detectron2) (2.10)\n",
            "Requirement already satisfied: urllib3<1.27,>=1.21.1 in /usr/local/lib/python3.8/dist-packages (from requests<3,>=2.21.0->tensorboard->detectron2@ git+https://github.com/facebookresearch/detectron2.git@v0.6#egg=detectron2) (1.26.14)\n",
            "Requirement already satisfied: MarkupSafe>=2.1.1 in /usr/local/lib/python3.8/dist-packages (from werkzeug>=1.0.1->tensorboard->detectron2@ git+https://github.com/facebookresearch/detectron2.git@v0.6#egg=detectron2) (2.1.2)\n",
            "Requirement already satisfied: zipp>=3.1.0 in /usr/local/lib/python3.8/dist-packages (from importlib-resources->hydra-core>=1.1->detectron2@ git+https://github.com/facebookresearch/detectron2.git@v0.6#egg=detectron2) (3.15.0)\n",
            "Requirement already satisfied: pyasn1<0.5.0,>=0.4.6 in /usr/local/lib/python3.8/dist-packages (from pyasn1-modules>=0.2.1->google-auth<3,>=1.6.3->tensorboard->detectron2@ git+https://github.com/facebookresearch/detectron2.git@v0.6#egg=detectron2) (0.4.8)\n",
            "Requirement already satisfied: oauthlib>=3.0.0 in /usr/local/lib/python3.8/dist-packages (from requests-oauthlib>=0.7.0->google-auth-oauthlib<0.5,>=0.4.1->tensorboard->detectron2@ git+https://github.com/facebookresearch/detectron2.git@v0.6#egg=detectron2) (3.2.2)\n",
            "Looking in indexes: https://pypi.org/simple, https://us-python.pkg.dev/colab-wheels/public/simple/\n",
            "Requirement already satisfied: layoutparser[layoutmodels,tesseract] in /usr/local/lib/python3.8/dist-packages (0.3.4)\n",
            "Requirement already satisfied: scipy in /usr/local/lib/python3.8/dist-packages (from layoutparser[layoutmodels,tesseract]) (1.10.1)\n",
            "Requirement already satisfied: opencv-python in /usr/local/lib/python3.8/dist-packages (from layoutparser[layoutmodels,tesseract]) (4.6.0.66)\n",
            "Requirement already satisfied: pdfplumber in /usr/local/lib/python3.8/dist-packages (from layoutparser[layoutmodels,tesseract]) (0.8.0)\n",
            "Requirement already satisfied: pyyaml>=5.1 in /usr/local/lib/python3.8/dist-packages (from layoutparser[layoutmodels,tesseract]) (6.0)\n",
            "Requirement already satisfied: iopath in /usr/local/lib/python3.8/dist-packages (from layoutparser[layoutmodels,tesseract]) (0.1.9)\n",
            "Requirement already satisfied: pillow in /usr/local/lib/python3.8/dist-packages (from layoutparser[layoutmodels,tesseract]) (9.4.0)\n",
            "Requirement already satisfied: pdf2image in /usr/local/lib/python3.8/dist-packages (from layoutparser[layoutmodels,tesseract]) (1.16.3)\n",
            "Requirement already satisfied: pandas in /usr/local/lib/python3.8/dist-packages (from layoutparser[layoutmodels,tesseract]) (1.3.5)\n",
            "Requirement already satisfied: numpy in /usr/local/lib/python3.8/dist-packages (from layoutparser[layoutmodels,tesseract]) (1.22.4)\n",
            "Requirement already satisfied: pytesseract in /usr/local/lib/python3.8/dist-packages (from layoutparser[layoutmodels,tesseract]) (0.3.10)\n",
            "Requirement already satisfied: torch in /usr/local/lib/python3.8/dist-packages (from layoutparser[layoutmodels,tesseract]) (1.13.1+cu116)\n",
            "Requirement already satisfied: torchvision in /usr/local/lib/python3.8/dist-packages (from layoutparser[layoutmodels,tesseract]) (0.14.1+cu116)\n",
            "Requirement already satisfied: effdet in /usr/local/lib/python3.8/dist-packages (from layoutparser[layoutmodels,tesseract]) (0.3.0)\n",
            "Requirement already satisfied: omegaconf>=2.0 in /usr/local/lib/python3.8/dist-packages (from effdet->layoutparser[layoutmodels,tesseract]) (2.3.0)\n",
            "Requirement already satisfied: pycocotools>=2.0.2 in /usr/local/lib/python3.8/dist-packages (from effdet->layoutparser[layoutmodels,tesseract]) (2.0.6)\n",
            "Requirement already satisfied: timm>=0.4.12 in /usr/local/lib/python3.8/dist-packages (from effdet->layoutparser[layoutmodels,tesseract]) (0.6.12)\n",
            "Requirement already satisfied: typing-extensions in /usr/local/lib/python3.8/dist-packages (from torch->layoutparser[layoutmodels,tesseract]) (4.5.0)\n",
            "Requirement already satisfied: portalocker in /usr/local/lib/python3.8/dist-packages (from iopath->layoutparser[layoutmodels,tesseract]) (2.7.0)\n",
            "Requirement already satisfied: tqdm in /usr/local/lib/python3.8/dist-packages (from iopath->layoutparser[layoutmodels,tesseract]) (4.64.1)\n",
            "Requirement already satisfied: python-dateutil>=2.7.3 in /usr/local/lib/python3.8/dist-packages (from pandas->layoutparser[layoutmodels,tesseract]) (2.8.2)\n",
            "Requirement already satisfied: pytz>=2017.3 in /usr/local/lib/python3.8/dist-packages (from pandas->layoutparser[layoutmodels,tesseract]) (2022.7.1)\n",
            "Requirement already satisfied: pdfminer.six==20221105 in /usr/local/lib/python3.8/dist-packages (from pdfplumber->layoutparser[layoutmodels,tesseract]) (20221105)\n",
            "Requirement already satisfied: Wand>=0.6.10 in /usr/local/lib/python3.8/dist-packages (from pdfplumber->layoutparser[layoutmodels,tesseract]) (0.6.11)\n",
            "Requirement already satisfied: charset-normalizer>=2.0.0 in /usr/local/lib/python3.8/dist-packages (from pdfminer.six==20221105->pdfplumber->layoutparser[layoutmodels,tesseract]) (3.0.1)\n",
            "Requirement already satisfied: cryptography>=36.0.0 in /usr/local/lib/python3.8/dist-packages (from pdfminer.six==20221105->pdfplumber->layoutparser[layoutmodels,tesseract]) (39.0.2)\n",
            "Requirement already satisfied: packaging>=21.3 in /usr/local/lib/python3.8/dist-packages (from pytesseract->layoutparser[layoutmodels,tesseract]) (23.0)\n",
            "Requirement already satisfied: requests in /usr/local/lib/python3.8/dist-packages (from torchvision->layoutparser[layoutmodels,tesseract]) (2.25.1)\n",
            "Requirement already satisfied: antlr4-python3-runtime==4.9.* in /usr/local/lib/python3.8/dist-packages (from omegaconf>=2.0->effdet->layoutparser[layoutmodels,tesseract]) (4.9.3)\n",
            "Requirement already satisfied: matplotlib>=2.1.0 in /usr/local/lib/python3.8/dist-packages (from pycocotools>=2.0.2->effdet->layoutparser[layoutmodels,tesseract]) (3.5.3)\n",
            "Requirement already satisfied: six>=1.5 in /usr/local/lib/python3.8/dist-packages (from python-dateutil>=2.7.3->pandas->layoutparser[layoutmodels,tesseract]) (1.15.0)\n",
            "Requirement already satisfied: huggingface-hub in /usr/local/lib/python3.8/dist-packages (from timm>=0.4.12->effdet->layoutparser[layoutmodels,tesseract]) (0.12.1)\n",
            "Requirement already satisfied: idna<3,>=2.5 in /usr/local/lib/python3.8/dist-packages (from requests->torchvision->layoutparser[layoutmodels,tesseract]) (2.10)\n",
            "Requirement already satisfied: urllib3<1.27,>=1.21.1 in /usr/local/lib/python3.8/dist-packages (from requests->torchvision->layoutparser[layoutmodels,tesseract]) (1.26.14)\n",
            "Requirement already satisfied: chardet<5,>=3.0.2 in /usr/local/lib/python3.8/dist-packages (from requests->torchvision->layoutparser[layoutmodels,tesseract]) (4.0.0)\n",
            "Requirement already satisfied: certifi>=2017.4.17 in /usr/local/lib/python3.8/dist-packages (from requests->torchvision->layoutparser[layoutmodels,tesseract]) (2022.12.7)\n",
            "Requirement already satisfied: cffi>=1.12 in /usr/local/lib/python3.8/dist-packages (from cryptography>=36.0.0->pdfminer.six==20221105->pdfplumber->layoutparser[layoutmodels,tesseract]) (1.15.1)\n",
            "Requirement already satisfied: fonttools>=4.22.0 in /usr/local/lib/python3.8/dist-packages (from matplotlib>=2.1.0->pycocotools>=2.0.2->effdet->layoutparser[layoutmodels,tesseract]) (4.38.0)\n",
            "Requirement already satisfied: cycler>=0.10 in /usr/local/lib/python3.8/dist-packages (from matplotlib>=2.1.0->pycocotools>=2.0.2->effdet->layoutparser[layoutmodels,tesseract]) (0.11.0)\n",
            "Requirement already satisfied: pyparsing>=2.2.1 in /usr/local/lib/python3.8/dist-packages (from matplotlib>=2.1.0->pycocotools>=2.0.2->effdet->layoutparser[layoutmodels,tesseract]) (3.0.9)\n",
            "Requirement already satisfied: kiwisolver>=1.0.1 in /usr/local/lib/python3.8/dist-packages (from matplotlib>=2.1.0->pycocotools>=2.0.2->effdet->layoutparser[layoutmodels,tesseract]) (1.4.4)\n",
            "Requirement already satisfied: filelock in /usr/local/lib/python3.8/dist-packages (from huggingface-hub->timm>=0.4.12->effdet->layoutparser[layoutmodels,tesseract]) (3.9.0)\n",
            "Requirement already satisfied: pycparser in /usr/local/lib/python3.8/dist-packages (from cffi>=1.12->cryptography>=36.0.0->pdfminer.six==20221105->pdfplumber->layoutparser[layoutmodels,tesseract]) (2.21)\n",
            "Looking in indexes: https://pypi.org/simple, https://us-python.pkg.dev/colab-wheels/public/simple/\n",
            "Requirement already satisfied: langchain in /usr/local/lib/python3.8/dist-packages (0.0.103)\n",
            "Requirement already satisfied: dataclasses-json<0.6.0,>=0.5.7 in /usr/local/lib/python3.8/dist-packages (from langchain) (0.5.7)\n",
            "Requirement already satisfied: requests<3,>=2 in /usr/local/lib/python3.8/dist-packages (from langchain) (2.25.1)\n",
            "Requirement already satisfied: pydantic<2,>=1 in /usr/local/lib/python3.8/dist-packages (from langchain) (1.10.5)\n",
            "Requirement already satisfied: numpy<2,>=1 in /usr/local/lib/python3.8/dist-packages (from langchain) (1.22.4)\n",
            "Requirement already satisfied: aiohttp<4.0.0,>=3.8.3 in /usr/local/lib/python3.8/dist-packages (from langchain) (3.8.4)\n",
            "Requirement already satisfied: tenacity<9.0.0,>=8.1.0 in /usr/local/lib/python3.8/dist-packages (from langchain) (8.2.2)\n",
            "Requirement already satisfied: PyYAML<7,>=6 in /usr/local/lib/python3.8/dist-packages (from langchain) (6.0)\n",
            "Requirement already satisfied: SQLAlchemy<2,>=1 in /usr/local/lib/python3.8/dist-packages (from langchain) (1.4.46)\n",
            "Requirement already satisfied: multidict<7.0,>=4.5 in /usr/local/lib/python3.8/dist-packages (from aiohttp<4.0.0,>=3.8.3->langchain) (6.0.4)\n",
            "Requirement already satisfied: aiosignal>=1.1.2 in /usr/local/lib/python3.8/dist-packages (from aiohttp<4.0.0,>=3.8.3->langchain) (1.3.1)\n",
            "Requirement already satisfied: frozenlist>=1.1.1 in /usr/local/lib/python3.8/dist-packages (from aiohttp<4.0.0,>=3.8.3->langchain) (1.3.3)\n",
            "Requirement already satisfied: yarl<2.0,>=1.0 in /usr/local/lib/python3.8/dist-packages (from aiohttp<4.0.0,>=3.8.3->langchain) (1.8.2)\n",
            "Requirement already satisfied: async-timeout<5.0,>=4.0.0a3 in /usr/local/lib/python3.8/dist-packages (from aiohttp<4.0.0,>=3.8.3->langchain) (4.0.2)\n",
            "Requirement already satisfied: charset-normalizer<4.0,>=2.0 in /usr/local/lib/python3.8/dist-packages (from aiohttp<4.0.0,>=3.8.3->langchain) (3.0.1)\n",
            "Requirement already satisfied: attrs>=17.3.0 in /usr/local/lib/python3.8/dist-packages (from aiohttp<4.0.0,>=3.8.3->langchain) (22.2.0)\n",
            "Requirement already satisfied: typing-inspect>=0.4.0 in /usr/local/lib/python3.8/dist-packages (from dataclasses-json<0.6.0,>=0.5.7->langchain) (0.8.0)\n",
            "Requirement already satisfied: marshmallow<4.0.0,>=3.3.0 in /usr/local/lib/python3.8/dist-packages (from dataclasses-json<0.6.0,>=0.5.7->langchain) (3.19.0)\n",
            "Requirement already satisfied: marshmallow-enum<2.0.0,>=1.5.1 in /usr/local/lib/python3.8/dist-packages (from dataclasses-json<0.6.0,>=0.5.7->langchain) (1.5.1)\n",
            "Requirement already satisfied: typing-extensions>=4.2.0 in /usr/local/lib/python3.8/dist-packages (from pydantic<2,>=1->langchain) (4.5.0)\n",
            "Requirement already satisfied: urllib3<1.27,>=1.21.1 in /usr/local/lib/python3.8/dist-packages (from requests<3,>=2->langchain) (1.26.14)\n",
            "Requirement already satisfied: idna<3,>=2.5 in /usr/local/lib/python3.8/dist-packages (from requests<3,>=2->langchain) (2.10)\n",
            "Requirement already satisfied: chardet<5,>=3.0.2 in /usr/local/lib/python3.8/dist-packages (from requests<3,>=2->langchain) (4.0.0)\n",
            "Requirement already satisfied: certifi>=2017.4.17 in /usr/local/lib/python3.8/dist-packages (from requests<3,>=2->langchain) (2022.12.7)\n",
            "Requirement already satisfied: greenlet!=0.4.17 in /usr/local/lib/python3.8/dist-packages (from SQLAlchemy<2,>=1->langchain) (2.0.2)\n",
            "Requirement already satisfied: packaging>=17.0 in /usr/local/lib/python3.8/dist-packages (from marshmallow<4.0.0,>=3.3.0->dataclasses-json<0.6.0,>=0.5.7->langchain) (23.0)\n",
            "Requirement already satisfied: mypy-extensions>=0.3.0 in /usr/local/lib/python3.8/dist-packages (from typing-inspect>=0.4.0->dataclasses-json<0.6.0,>=0.5.7->langchain) (1.0.0)\n",
            "Looking in indexes: https://pypi.org/simple, https://us-python.pkg.dev/colab-wheels/public/simple/\n",
            "Requirement already satisfied: cohere in /usr/local/lib/python3.8/dist-packages (3.10.0)\n",
            "Requirement already satisfied: urllib3~=1.26 in /usr/local/lib/python3.8/dist-packages (from cohere) (1.26.14)\n",
            "Requirement already satisfied: requests in /usr/local/lib/python3.8/dist-packages (from cohere) (2.25.1)\n",
            "Requirement already satisfied: certifi>=2017.4.17 in /usr/local/lib/python3.8/dist-packages (from requests->cohere) (2022.12.7)\n",
            "Requirement already satisfied: chardet<5,>=3.0.2 in /usr/local/lib/python3.8/dist-packages (from requests->cohere) (4.0.0)\n",
            "Requirement already satisfied: idna<3,>=2.5 in /usr/local/lib/python3.8/dist-packages (from requests->cohere) (2.10)\n",
            "Looking in indexes: https://pypi.org/simple, https://us-python.pkg.dev/colab-wheels/public/simple/\n",
            "Requirement already satisfied: pysrt in /usr/local/lib/python3.8/dist-packages (1.1.2)\n",
            "Requirement already satisfied: chardet in /usr/local/lib/python3.8/dist-packages (from pysrt) (4.0.0)\n",
            "Looking in indexes: https://pypi.org/simple, https://us-python.pkg.dev/colab-wheels/public/simple/\n",
            "Requirement already satisfied: openai in /usr/local/lib/python3.8/dist-packages (0.27.0)\n",
            "Requirement already satisfied: tqdm in /usr/local/lib/python3.8/dist-packages (from openai) (4.64.1)\n",
            "Requirement already satisfied: aiohttp in /usr/local/lib/python3.8/dist-packages (from openai) (3.8.4)\n",
            "Requirement already satisfied: requests>=2.20 in /usr/local/lib/python3.8/dist-packages (from openai) (2.25.1)\n",
            "Requirement already satisfied: urllib3<1.27,>=1.21.1 in /usr/local/lib/python3.8/dist-packages (from requests>=2.20->openai) (1.26.14)\n",
            "Requirement already satisfied: idna<3,>=2.5 in /usr/local/lib/python3.8/dist-packages (from requests>=2.20->openai) (2.10)\n",
            "Requirement already satisfied: chardet<5,>=3.0.2 in /usr/local/lib/python3.8/dist-packages (from requests>=2.20->openai) (4.0.0)\n",
            "Requirement already satisfied: certifi>=2017.4.17 in /usr/local/lib/python3.8/dist-packages (from requests>=2.20->openai) (2022.12.7)\n",
            "Requirement already satisfied: async-timeout<5.0,>=4.0.0a3 in /usr/local/lib/python3.8/dist-packages (from aiohttp->openai) (4.0.2)\n",
            "Requirement already satisfied: aiosignal>=1.1.2 in /usr/local/lib/python3.8/dist-packages (from aiohttp->openai) (1.3.1)\n",
            "Requirement already satisfied: attrs>=17.3.0 in /usr/local/lib/python3.8/dist-packages (from aiohttp->openai) (22.2.0)\n",
            "Requirement already satisfied: yarl<2.0,>=1.0 in /usr/local/lib/python3.8/dist-packages (from aiohttp->openai) (1.8.2)\n",
            "Requirement already satisfied: frozenlist>=1.1.1 in /usr/local/lib/python3.8/dist-packages (from aiohttp->openai) (1.3.3)\n",
            "Requirement already satisfied: charset-normalizer<4.0,>=2.0 in /usr/local/lib/python3.8/dist-packages (from aiohttp->openai) (3.0.1)\n",
            "Requirement already satisfied: multidict<7.0,>=4.5 in /usr/local/lib/python3.8/dist-packages (from aiohttp->openai) (6.0.4)\n",
            "Looking in indexes: https://pypi.org/simple, https://us-python.pkg.dev/colab-wheels/public/simple/\n",
            "Collecting chromadb\n",
            "  Downloading chromadb-0.3.11-py3-none-any.whl (41 kB)\n",
            "\u001b[2K     \u001b[90m━━━━━━━━━━━━━━━━━━━━━━━━━━━━━━━━━━━━━━━━\u001b[0m \u001b[32m41.4/41.4 KB\u001b[0m \u001b[31m2.6 MB/s\u001b[0m eta \u001b[36m0:00:00\u001b[0m\n",
            "\u001b[?25hRequirement already satisfied: uvicorn[standard]>=0.18.3 in /usr/local/lib/python3.8/dist-packages (from chromadb) (0.20.0)\n",
            "Collecting clickhouse-connect>=0.5.7\n",
            "  Downloading clickhouse_connect-0.5.14-cp38-cp38-manylinux_2_17_x86_64.manylinux2014_x86_64.whl (916 kB)\n",
            "\u001b[2K     \u001b[90m━━━━━━━━━━━━━━━━━━━━━━━━━━━━━━━━━━━━━━\u001b[0m \u001b[32m916.4/916.4 KB\u001b[0m \u001b[31m21.9 MB/s\u001b[0m eta \u001b[36m0:00:00\u001b[0m\n",
            "\u001b[?25hRequirement already satisfied: fastapi>=0.85.1 in /usr/local/lib/python3.8/dist-packages (from chromadb) (0.93.0)\n",
            "Collecting hnswlib>=0.7\n",
            "  Downloading hnswlib-0.7.0.tar.gz (33 kB)\n",
            "  Installing build dependencies ... \u001b[?25l\u001b[?25hdone\n",
            "  Getting requirements to build wheel ... \u001b[?25l\u001b[?25hdone\n",
            "  Preparing metadata (pyproject.toml) ... \u001b[?25l\u001b[?25hdone\n",
            "Collecting requests>=2.28\n",
            "  Downloading requests-2.28.2-py3-none-any.whl (62 kB)\n",
            "\u001b[2K     \u001b[90m━━━━━━━━━━━━━━━━━━━━━━━━━━━━━━━━━━━━━━━━\u001b[0m \u001b[32m62.8/62.8 KB\u001b[0m \u001b[31m9.2 MB/s\u001b[0m eta \u001b[36m0:00:00\u001b[0m\n",
            "\u001b[?25hCollecting sentence-transformers>=2.2.2\n",
            "  Downloading sentence-transformers-2.2.2.tar.gz (85 kB)\n",
            "\u001b[2K     \u001b[90m━━━━━━━━━━━━━━━━━━━━━━━━━━━━━━━━━━━━━━━━\u001b[0m \u001b[32m86.0/86.0 KB\u001b[0m \u001b[31m14.7 MB/s\u001b[0m eta \u001b[36m0:00:00\u001b[0m\n",
            "\u001b[?25h  Preparing metadata (setup.py) ... \u001b[?25l\u001b[?25hdone\n",
            "Collecting duckdb>=0.5.1\n",
            "  Downloading duckdb-0.7.1-cp38-cp38-manylinux_2_17_x86_64.manylinux2014_x86_64.whl (15.2 MB)\n",
            "\u001b[2K     \u001b[90m━━━━━━━━━━━━━━━━━━━━━━━━━━━━━━━━━━━━━━━━\u001b[0m \u001b[32m15.2/15.2 MB\u001b[0m \u001b[31m71.8 MB/s\u001b[0m eta \u001b[36m0:00:00\u001b[0m\n",
            "\u001b[?25hRequirement already satisfied: pydantic>=1.9 in /usr/local/lib/python3.8/dist-packages (from chromadb) (1.10.5)\n",
            "Requirement already satisfied: numpy>=1.21.6 in /usr/local/lib/python3.8/dist-packages (from chromadb) (1.22.4)\n",
            "Requirement already satisfied: pandas>=1.3 in /usr/local/lib/python3.8/dist-packages (from chromadb) (1.3.5)\n",
            "Requirement already satisfied: pytz in /usr/local/lib/python3.8/dist-packages (from clickhouse-connect>=0.5.7->chromadb) (2022.7.1)\n",
            "Requirement already satisfied: certifi in /usr/local/lib/python3.8/dist-packages (from clickhouse-connect>=0.5.7->chromadb) (2022.12.7)\n",
            "Requirement already satisfied: urllib3>=1.26 in /usr/local/lib/python3.8/dist-packages (from clickhouse-connect>=0.5.7->chromadb) (1.26.14)\n",
            "Collecting zstandard\n",
            "  Downloading zstandard-0.20.0-cp38-cp38-manylinux_2_17_x86_64.manylinux2014_x86_64.whl (2.6 MB)\n",
            "\u001b[2K     \u001b[90m━━━━━━━━━━━━━━━━━━━━━━━━━━━━━━━━━━━━━━━━\u001b[0m \u001b[32m2.6/2.6 MB\u001b[0m \u001b[31m87.2 MB/s\u001b[0m eta \u001b[36m0:00:00\u001b[0m\n",
            "\u001b[?25hCollecting lz4\n",
            "  Downloading lz4-4.3.2-cp38-cp38-manylinux_2_17_x86_64.manylinux2014_x86_64.whl (1.3 MB)\n",
            "\u001b[2K     \u001b[90m━━━━━━━━━━━━━━━━━━━━━━━━━━━━━━━━━━━━━━━━\u001b[0m \u001b[32m1.3/1.3 MB\u001b[0m \u001b[31m76.3 MB/s\u001b[0m eta \u001b[36m0:00:00\u001b[0m\n",
            "\u001b[?25hRequirement already satisfied: starlette<0.26.0,>=0.25.0 in /usr/local/lib/python3.8/dist-packages (from fastapi>=0.85.1->chromadb) (0.25.0)\n",
            "Requirement already satisfied: python-dateutil>=2.7.3 in /usr/local/lib/python3.8/dist-packages (from pandas>=1.3->chromadb) (2.8.2)\n",
            "Requirement already satisfied: typing-extensions>=4.2.0 in /usr/local/lib/python3.8/dist-packages (from pydantic>=1.9->chromadb) (4.5.0)\n",
            "Requirement already satisfied: idna<4,>=2.5 in /usr/local/lib/python3.8/dist-packages (from requests>=2.28->chromadb) (2.10)\n",
            "Requirement already satisfied: charset-normalizer<4,>=2 in /usr/local/lib/python3.8/dist-packages (from requests>=2.28->chromadb) (3.0.1)\n",
            "Requirement already satisfied: transformers<5.0.0,>=4.6.0 in /usr/local/lib/python3.8/dist-packages (from sentence-transformers>=2.2.2->chromadb) (4.26.1)\n",
            "Requirement already satisfied: tqdm in /usr/local/lib/python3.8/dist-packages (from sentence-transformers>=2.2.2->chromadb) (4.64.1)\n",
            "Requirement already satisfied: torch>=1.6.0 in /usr/local/lib/python3.8/dist-packages (from sentence-transformers>=2.2.2->chromadb) (1.13.1+cu116)\n",
            "Requirement already satisfied: torchvision in /usr/local/lib/python3.8/dist-packages (from sentence-transformers>=2.2.2->chromadb) (0.14.1+cu116)\n",
            "Requirement already satisfied: scikit-learn in /usr/local/lib/python3.8/dist-packages (from sentence-transformers>=2.2.2->chromadb) (1.2.1)\n",
            "Requirement already satisfied: scipy in /usr/local/lib/python3.8/dist-packages (from sentence-transformers>=2.2.2->chromadb) (1.10.1)\n",
            "Requirement already satisfied: nltk in /usr/local/lib/python3.8/dist-packages (from sentence-transformers>=2.2.2->chromadb) (3.7)\n",
            "Collecting sentencepiece\n",
            "  Downloading sentencepiece-0.1.97-cp38-cp38-manylinux_2_17_x86_64.manylinux2014_x86_64.whl (1.3 MB)\n",
            "\u001b[2K     \u001b[90m━━━━━━━━━━━━━━━━━━━━━━━━━━━━━━━━━━━━━━━━\u001b[0m \u001b[32m1.3/1.3 MB\u001b[0m \u001b[31m80.6 MB/s\u001b[0m eta \u001b[36m0:00:00\u001b[0m\n",
            "\u001b[?25hRequirement already satisfied: huggingface-hub>=0.4.0 in /usr/local/lib/python3.8/dist-packages (from sentence-transformers>=2.2.2->chromadb) (0.12.1)\n",
            "Requirement already satisfied: h11>=0.8 in /usr/local/lib/python3.8/dist-packages (from uvicorn[standard]>=0.18.3->chromadb) (0.14.0)\n",
            "Requirement already satisfied: click>=7.0 in /usr/local/lib/python3.8/dist-packages (from uvicorn[standard]>=0.18.3->chromadb) (8.1.3)\n",
            "Requirement already satisfied: pyyaml>=5.1 in /usr/local/lib/python3.8/dist-packages (from uvicorn[standard]>=0.18.3->chromadb) (6.0)\n",
            "Collecting watchfiles>=0.13\n",
            "  Downloading watchfiles-0.18.1-cp37-abi3-manylinux_2_17_x86_64.manylinux2014_x86_64.whl (1.2 MB)\n",
            "\u001b[2K     \u001b[90m━━━━━━━━━━━━━━━━━━━━━━━━━━━━━━━━━━━━━━━━\u001b[0m \u001b[32m1.2/1.2 MB\u001b[0m \u001b[31m73.4 MB/s\u001b[0m eta \u001b[36m0:00:00\u001b[0m\n",
            "\u001b[?25hCollecting uvloop!=0.15.0,!=0.15.1,>=0.14.0\n",
            "  Downloading uvloop-0.17.0-cp38-cp38-manylinux_2_17_x86_64.manylinux2014_x86_64.whl (4.6 MB)\n",
            "\u001b[2K     \u001b[90m━━━━━━━━━━━━━━━━━━━━━━━━━━━━━━━━━━━━━━━━\u001b[0m \u001b[32m4.6/4.6 MB\u001b[0m \u001b[31m93.1 MB/s\u001b[0m eta \u001b[36m0:00:00\u001b[0m\n",
            "\u001b[?25hCollecting python-dotenv>=0.13\n",
            "  Downloading python_dotenv-1.0.0-py3-none-any.whl (19 kB)\n",
            "Collecting websockets>=10.4\n",
            "  Downloading websockets-10.4-cp38-cp38-manylinux_2_5_x86_64.manylinux1_x86_64.manylinux_2_17_x86_64.manylinux2014_x86_64.whl (106 kB)\n",
            "\u001b[2K     \u001b[90m━━━━━━━━━━━━━━━━━━━━━━━━━━━━━━━━━━━━━━\u001b[0m \u001b[32m107.0/107.0 KB\u001b[0m \u001b[31m17.6 MB/s\u001b[0m eta \u001b[36m0:00:00\u001b[0m\n",
            "\u001b[?25hCollecting httptools>=0.5.0\n",
            "  Downloading httptools-0.5.0-cp38-cp38-manylinux_2_5_x86_64.manylinux1_x86_64.manylinux_2_17_x86_64.manylinux2014_x86_64.whl (427 kB)\n",
            "\u001b[2K     \u001b[90m━━━━━━━━━━━━━━━━━━━━━━━━━━━━━━━━━━━━━━\u001b[0m \u001b[32m427.8/427.8 KB\u001b[0m \u001b[31m46.2 MB/s\u001b[0m eta \u001b[36m0:00:00\u001b[0m\n",
            "\u001b[?25hRequirement already satisfied: packaging>=20.9 in /usr/local/lib/python3.8/dist-packages (from huggingface-hub>=0.4.0->sentence-transformers>=2.2.2->chromadb) (23.0)\n",
            "Requirement already satisfied: filelock in /usr/local/lib/python3.8/dist-packages (from huggingface-hub>=0.4.0->sentence-transformers>=2.2.2->chromadb) (3.9.0)\n",
            "Requirement already satisfied: six>=1.5 in /usr/local/lib/python3.8/dist-packages (from python-dateutil>=2.7.3->pandas>=1.3->chromadb) (1.15.0)\n",
            "Requirement already satisfied: anyio<5,>=3.4.0 in /usr/local/lib/python3.8/dist-packages (from starlette<0.26.0,>=0.25.0->fastapi>=0.85.1->chromadb) (3.6.2)\n",
            "Requirement already satisfied: tokenizers!=0.11.3,<0.14,>=0.11.1 in /usr/local/lib/python3.8/dist-packages (from transformers<5.0.0,>=4.6.0->sentence-transformers>=2.2.2->chromadb) (0.13.2)\n",
            "Requirement already satisfied: regex!=2019.12.17 in /usr/local/lib/python3.8/dist-packages (from transformers<5.0.0,>=4.6.0->sentence-transformers>=2.2.2->chromadb) (2022.6.2)\n",
            "Requirement already satisfied: joblib in /usr/local/lib/python3.8/dist-packages (from nltk->sentence-transformers>=2.2.2->chromadb) (1.2.0)\n",
            "Requirement already satisfied: threadpoolctl>=2.0.0 in /usr/local/lib/python3.8/dist-packages (from scikit-learn->sentence-transformers>=2.2.2->chromadb) (3.1.0)\n",
            "Requirement already satisfied: pillow!=8.3.*,>=5.3.0 in /usr/local/lib/python3.8/dist-packages (from torchvision->sentence-transformers>=2.2.2->chromadb) (9.4.0)\n",
            "Requirement already satisfied: sniffio>=1.1 in /usr/local/lib/python3.8/dist-packages (from anyio<5,>=3.4.0->starlette<0.26.0,>=0.25.0->fastapi>=0.85.1->chromadb) (1.3.0)\n",
            "Building wheels for collected packages: hnswlib, sentence-transformers\n",
            "  Building wheel for hnswlib (pyproject.toml) ... \u001b[?25l\u001b[?25hdone\n",
            "  Created wheel for hnswlib: filename=hnswlib-0.7.0-cp38-cp38-linux_x86_64.whl size=2122834 sha256=3b3663f09585936072b26fbf78d3d962022d9c136f7727a61076e8f43c057c5a\n",
            "  Stored in directory: /root/.cache/pip/wheels/93/0d/13/bbdc55499ef621f8f722fad91050fbb1380709f0c62fa7719a\n",
            "  Building wheel for sentence-transformers (setup.py) ... \u001b[?25l\u001b[?25hdone\n",
            "  Created wheel for sentence-transformers: filename=sentence_transformers-2.2.2-py3-none-any.whl size=125938 sha256=0475a4575db062167400cf904807f95c2b2290306354849291873e06d134f55e\n",
            "  Stored in directory: /root/.cache/pip/wheels/5e/6f/8c/d88aec621f3f542d26fac0342bef5e693335d125f4e54aeffe\n",
            "Successfully built hnswlib sentence-transformers\n",
            "Installing collected packages: sentencepiece, duckdb, zstandard, websockets, uvloop, requests, python-dotenv, lz4, httptools, hnswlib, watchfiles, clickhouse-connect, sentence-transformers, chromadb\n",
            "  Attempting uninstall: requests\n",
            "    Found existing installation: requests 2.25.1\n",
            "    Uninstalling requests-2.25.1:\n",
            "      Successfully uninstalled requests-2.25.1\n",
            "Successfully installed chromadb-0.3.11 clickhouse-connect-0.5.14 duckdb-0.7.1 hnswlib-0.7.0 httptools-0.5.0 lz4-4.3.2 python-dotenv-1.0.0 requests-2.28.2 sentence-transformers-2.2.2 sentencepiece-0.1.97 uvloop-0.17.0 watchfiles-0.18.1 websockets-10.4 zstandard-0.20.0\n"
          ]
        },
        {
          "output_type": "display_data",
          "data": {
            "application/vnd.colab-display-data+json": {
              "pip_warning": {
                "packages": [
                  "requests"
                ]
              }
            }
          },
          "metadata": {}
        },
        {
          "output_type": "stream",
          "name": "stderr",
          "text": [
            "[nltk_data] Downloading package punkt to /root/nltk_data...\n",
            "[nltk_data]   Package punkt is already up-to-date!\n"
          ]
        },
        {
          "output_type": "execute_result",
          "data": {
            "text/plain": [
              "True"
            ]
          },
          "metadata": {},
          "execution_count": 40
        }
      ],
      "source": [
        "# All of this was taken from https://langchain.readthedocs.io/en/latest/modules/document_loaders/examples/unstructured_file.html\n",
        "\n",
        "## Install package\n",
        "!pip install \"unstructured[local-inference]\"\n",
        "!pip install \"detectron2@git+https://github.com/facebookresearch/detectron2.git@v0.6#egg=detectron2\"\n",
        "!pip install layoutparser[layoutmodels,tesseract]\n",
        "!pip install langchain\n",
        "!pip install cohere\n",
        "!pip install pysrt\n",
        "!pip install openai\n",
        "!pip install chromadb\n",
        "import nltk\n",
        "nltk.download('punkt')"
      ]
    },
    {
      "cell_type": "code",
      "source": [
        "!wget https://raw.githubusercontent.com/mimendez00/mimendez_public_data/main/Andrej-v3.txt"
      ],
      "metadata": {
        "colab": {
          "base_uri": "https://localhost:8080/"
        },
        "id": "ZSCfMX_qBX1M",
        "outputId": "e6571810-7dee-421b-8944-d561afde5bc3"
      },
      "execution_count": 201,
      "outputs": [
        {
          "output_type": "stream",
          "name": "stdout",
          "text": [
            "--2023-03-08 01:47:04--  https://raw.githubusercontent.com/mimendez00/mimendez_public_data/main/Andrej-v3.txt\n",
            "Resolving raw.githubusercontent.com (raw.githubusercontent.com)... 185.199.108.133, 185.199.109.133, 185.199.110.133, ...\n",
            "Connecting to raw.githubusercontent.com (raw.githubusercontent.com)|185.199.108.133|:443... connected.\n",
            "HTTP request sent, awaiting response... 200 OK\n",
            "Length: 230158 (225K) [text/plain]\n",
            "Saving to: ‘Andrej-v3.txt.1’\n",
            "\n",
            "Andrej-v3.txt.1     100%[===================>] 224.76K  --.-KB/s    in 0.02s   \n",
            "\n",
            "2023-03-08 01:47:04 (12.6 MB/s) - ‘Andrej-v3.txt.1’ saved [230158/230158]\n",
            "\n"
          ]
        }
      ]
    },
    {
      "cell_type": "code",
      "source": [
        "from langchain.document_loaders import TextLoader\n",
        "\n",
        "loader = TextLoader(\"Andrej-v3.txt\")\n",
        "docs = loader.load()"
      ],
      "metadata": {
        "id": "ACt4pqpFq1p1"
      },
      "execution_count": 191,
      "outputs": []
    },
    {
      "cell_type": "code",
      "source": [
        "from langchain.text_splitter import CharacterTextSplitter\n",
        "\n",
        "text_splitter = CharacterTextSplitter(\n",
        "    # Set a really small chunk size, just to show.\n",
        "    chunk_size = 1000,\n",
        "    chunk_overlap  = 200,\n",
        "    separator = \"\\n\"\n",
        ")\n",
        "\n",
        "texts = text_splitter.split_documents(docs)\n"
      ],
      "metadata": {
        "colab": {
          "base_uri": "https://localhost:8080/"
        },
        "id": "xNRjvl_Fv9Fk",
        "outputId": "82bca4a0-b0f5-4495-ad40-76f9dde932ce"
      },
      "execution_count": 192,
      "outputs": [
        {
          "output_type": "stream",
          "name": "stderr",
          "text": [
            "WARNING:root:Created a chunk of size 1111, which is longer than the specified 1000\n",
            "WARNING:root:Created a chunk of size 1105, which is longer than the specified 1000\n",
            "WARNING:root:Created a chunk of size 1205, which is longer than the specified 1000\n",
            "WARNING:root:Created a chunk of size 1654, which is longer than the specified 1000\n",
            "WARNING:root:Created a chunk of size 1426, which is longer than the specified 1000\n",
            "WARNING:root:Created a chunk of size 1099, which is longer than the specified 1000\n",
            "WARNING:root:Created a chunk of size 2567, which is longer than the specified 1000\n",
            "WARNING:root:Created a chunk of size 2517, which is longer than the specified 1000\n",
            "WARNING:root:Created a chunk of size 1695, which is longer than the specified 1000\n",
            "WARNING:root:Created a chunk of size 2438, which is longer than the specified 1000\n",
            "WARNING:root:Created a chunk of size 1002, which is longer than the specified 1000\n",
            "WARNING:root:Created a chunk of size 1011, which is longer than the specified 1000\n",
            "WARNING:root:Created a chunk of size 3917, which is longer than the specified 1000\n",
            "WARNING:root:Created a chunk of size 1059, which is longer than the specified 1000\n",
            "WARNING:root:Created a chunk of size 2081, which is longer than the specified 1000\n",
            "WARNING:root:Created a chunk of size 2392, which is longer than the specified 1000\n",
            "WARNING:root:Created a chunk of size 1037, which is longer than the specified 1000\n",
            "WARNING:root:Created a chunk of size 1353, which is longer than the specified 1000\n",
            "WARNING:root:Created a chunk of size 1539, which is longer than the specified 1000\n",
            "WARNING:root:Created a chunk of size 1062, which is longer than the specified 1000\n",
            "WARNING:root:Created a chunk of size 1318, which is longer than the specified 1000\n",
            "WARNING:root:Created a chunk of size 1414, which is longer than the specified 1000\n",
            "WARNING:root:Created a chunk of size 1246, which is longer than the specified 1000\n",
            "WARNING:root:Created a chunk of size 1337, which is longer than the specified 1000\n",
            "WARNING:root:Created a chunk of size 1619, which is longer than the specified 1000\n",
            "WARNING:root:Created a chunk of size 1034, which is longer than the specified 1000\n",
            "WARNING:root:Created a chunk of size 1390, which is longer than the specified 1000\n",
            "WARNING:root:Created a chunk of size 1110, which is longer than the specified 1000\n",
            "WARNING:root:Created a chunk of size 1027, which is longer than the specified 1000\n",
            "WARNING:root:Created a chunk of size 1183, which is longer than the specified 1000\n",
            "WARNING:root:Created a chunk of size 1144, which is longer than the specified 1000\n",
            "WARNING:root:Created a chunk of size 1664, which is longer than the specified 1000\n",
            "WARNING:root:Created a chunk of size 1040, which is longer than the specified 1000\n",
            "WARNING:root:Created a chunk of size 1279, which is longer than the specified 1000\n",
            "WARNING:root:Created a chunk of size 1030, which is longer than the specified 1000\n",
            "WARNING:root:Created a chunk of size 1086, which is longer than the specified 1000\n"
          ]
        }
      ]
    },
    {
      "cell_type": "code",
      "source": [
        "print(len(texts))\n",
        "print(texts[0])"
      ],
      "metadata": {
        "colab": {
          "base_uri": "https://localhost:8080/"
        },
        "id": "sWmhNKdTwW27",
        "outputId": "5492dfd3-db38-4cce-e130-b33aa27710d1"
      },
      "execution_count": 193,
      "outputs": [
        {
          "output_type": "stream",
          "name": "stdout",
          "text": [
            "284\n",
            "page_content='Andrej Karpathy said \"think it\\'s possible that physics has exploits and we should be trying to find them. arranging some kind of a crazy quantum mechanical system that somehow gives you buffer overflow somehow gives you a rounding error and the floating point. Synthetic intelligences are kind of like the next stage of development. And I don\\'t know where it leads to like at some point, I suspect the universe is some kind of a puzzle, these synthetic AIS will uncover that puzzle and solve it.\"\\nLex Fridman said \"The following is a conversation with Andrej Karpathy. Previously, the director of AI at Tesla. And before that, at open AI, and Stanford, he is one of the greatest scientists, engineers and educators in the history of artificial intelligence. This is the LEX Friedman podcast to support it, please check out our sponsors. And now, dear friends, here\\'s Andrej Karpathy thing. What is a neural network? And why does it seem to do such a surprisingly good job of learning?\"' lookup_str='' metadata={'source': 'Andrej-v3.txt'} lookup_index=0\n"
          ]
        }
      ]
    },
    {
      "cell_type": "code",
      "source": [
        "from langchain.embeddings.openai import OpenAIEmbeddings\n",
        "from langchain.embeddings.cohere import CohereEmbeddings\n",
        "from langchain.vectorstores import Chroma\n",
        "from langchain import OpenAI, VectorDBQA, Cohere\n",
        "from langchain.chains import VectorDBQAWithSourcesChain\n",
        "import json\n",
        "\n",
        "embeddings = OpenAIEmbeddings()\n",
        "docsearch = Chroma.from_documents(texts, embeddings, metadatas=[{\"source\": f\"{i}-pl\"} for i in range(len(texts))])\n",
        "\n"
      ],
      "metadata": {
        "colab": {
          "base_uri": "https://localhost:8080/"
        },
        "id": "nw0Ei_xHwX97",
        "outputId": "d6861360-5a1f-4ee0-f9b0-ea16564a04da"
      },
      "execution_count": 194,
      "outputs": [
        {
          "output_type": "stream",
          "name": "stdout",
          "text": [
            "Running Chroma using direct local API.\n",
            "Using DuckDB in-memory for database. Data will be transient.\n"
          ]
        },
        {
          "output_type": "stream",
          "name": "stderr",
          "text": [
            "DEBUG:Chroma:Index not found\n",
            "DEBUG:Chroma:Index saved to .chroma/index/index.bin\n",
            "DEBUG:Chroma:Index saved to .chroma/index/index.bin\n"
          ]
        }
      ]
    },
    {
      "cell_type": "code",
      "source": [
        "print(len(texts))\n",
        "print(texts[0])"
      ],
      "metadata": {
        "colab": {
          "base_uri": "https://localhost:8080/"
        },
        "id": "fi-CfYnwUYei",
        "outputId": "5cc90ffa-66b7-4925-e95f-06a7c1f2b2f0"
      },
      "execution_count": 195,
      "outputs": [
        {
          "output_type": "stream",
          "name": "stdout",
          "text": [
            "284\n",
            "page_content='Andrej Karpathy said \"think it\\'s possible that physics has exploits and we should be trying to find them. arranging some kind of a crazy quantum mechanical system that somehow gives you buffer overflow somehow gives you a rounding error and the floating point. Synthetic intelligences are kind of like the next stage of development. And I don\\'t know where it leads to like at some point, I suspect the universe is some kind of a puzzle, these synthetic AIS will uncover that puzzle and solve it.\"\\nLex Fridman said \"The following is a conversation with Andrej Karpathy. Previously, the director of AI at Tesla. And before that, at open AI, and Stanford, he is one of the greatest scientists, engineers and educators in the history of artificial intelligence. This is the LEX Friedman podcast to support it, please check out our sponsors. And now, dear friends, here\\'s Andrej Karpathy thing. What is a neural network? And why does it seem to do such a surprisingly good job of learning?\"' lookup_str='' metadata={'source': 'Andrej-v3.txt'} lookup_index=0\n"
          ]
        }
      ]
    },
    {
      "cell_type": "code",
      "source": [
        "from langchain.chains.qa_with_sources import load_qa_with_sources_chain\n",
        "qa_chain = load_qa_with_sources_chain(OpenAI(temperature=0), chain_type=\"map_rerank\", return_intermediate_steps=True)\n",
        "\n",
        "qa = VectorDBQAWithSourcesChain(combine_documents_chain=qa_chain, vectorstore=docsearch, verbose=True)\n",
        "#qa = VectorDBQAWithSourcesChain.from_chain_type(OpenAI(temperature=0), chain_type=\"refine\", vectorstore=docsearch, verbose=True)"
      ],
      "metadata": {
        "colab": {
          "base_uri": "https://localhost:8080/"
        },
        "id": "C8v742zCDjRf",
        "outputId": "fa9bb164-47c3-4514-ae8c-b4cec78a2b30"
      },
      "execution_count": 196,
      "outputs": [
        {
          "output_type": "stream",
          "name": "stdout",
          "text": [
            "Exiting: Cleaning up .chroma directory\n"
          ]
        }
      ]
    },
    {
      "cell_type": "code",
      "source": [
        "query_question = \"Did Lex mention Optimus?\"\n",
        "\n",
        "\n",
        "docresults = docsearch.similarity_search(query_question)\n",
        "for i in range(len(docresults)):\n",
        "  print(docresults[i].page_content)\n",
        "\n",
        "qa({\"question\": query_question}, return_only_outputs=True)"
      ],
      "metadata": {
        "colab": {
          "base_uri": "https://localhost:8080/"
        },
        "id": "UIoYL1xZGdac",
        "outputId": "62f02171-d35e-4d6d-b697-6a9f5e096da5"
      },
      "execution_count": 199,
      "outputs": [
        {
          "output_type": "stream",
          "name": "stderr",
          "text": [
            "DEBUG:Chroma:time to pre process our knn query: 3.5762786865234375e-06\n",
            "DEBUG:Chroma:time to run knn query: 0.0004305839538574219\n"
          ]
        },
        {
          "output_type": "stream",
          "name": "stdout",
          "text": [
            "Andrej Karpathy said \"I guess occasionally. I do enjoy movies that don't feature or like Anchorman that has. That's the thinker, man. It's so good.\"\n",
            "Lex Fridman said \"I don't understand. Um, he's speaking of AGI because I don't understand why Will Ferrell is so funny. It doesn't make sense. It doesn't compute. There's just something about him. And he's a singular human because you don't get that many comedies these days and I wonder if it has to do about the culture or the like the the machine of Hollywood or does it have to do with just we got lucky with certain people in comedy. It came together because he is a single human. That was a ridiculous tangent. I apologize. But you mentioned humanoid robot. So what do you think about Optimus about About Do you think we'll have robots in the factory in the home in 1020 3040 50 years?\"\n",
            "Lex Fridman said \"there's also dance between the genius and the personal, like, what it means to love another human being. And there's a lot of things there is just a beautiful movie, and then the fatherly figure, the mentor in the psychiatrist and it like, really,\"\n",
            "Andrej Karpathy said \"like, it messes with you, you know, there's some movies that just like really mess with you. on a deep level,\"\n",
            "Lex Fridman said \"do you relate to that movie at all? No, it's like I said, Lord of the Rings, it's self explanatory. Terminator two, which is interesting. You rewatch that? Oh, there's that better than Terminator one? You like, you're like Terminator\"\n",
            "Andrej Karpathy said \"one as well. I like Terminator two a little bit more. But in terms of like its surface properties.\"\n",
            "Lex Fridman said \"I do you think Skynet is at all a possibility? Yes. Like the actual sort of autonomous weapon system kind of thing? Do you worry about that stuff? I do worry, I use a war.\"\n",
            "Lex Fridman said \"But it's your you admire the resilience here. Yeah, there's something profound about this architecture that that least, maybe we can, everything can be turned into. into a problem that transformers can solve\"\n",
            "Andrej Karpathy said \"currently definitely looks like the Transformers taking over AI. And you can feed basically arbitrary problems into it. And it's a general differentiable computer. And it's extremely powerful. And this convergence in AI has been really interesting to watch. For me personally.\"\n",
            "Lex Fridman said \"What else do you think could be discovered here about transformers? Like what surprising thing? Or is it a stable? I wouldn't a stable place, there's something interesting, we might discover about transformers, like aha moments maybe has to do with memory, maybe knowledge representation, that kind of stuff?\"\n",
            "Andrej Karpathy said \"Well, that's the big open question I would say in my mind is if you also require the embodiment and the ability to sort of sort of interact with the world run experiments and have a data of that form, then you need to go to optimists, or something like that. And so I would say optimist in some way as like a hedge in AGI because it seems to me that it's possible that just having data from the internet is not enough. If that is the case, then optimists may lead to AGI because optimists were I, to me, there's nothing beyond Optimus, you have like this humanoid form factor that can actually like do stuff in the world, you can have millions of them interacting with humans and so on. And if that doesn't give rise to AGI at some point, like, I'm not sure what will. So from a completeness perspective, I think that's the, that's a really good platform. But it's a much harder platform, because you are dealing with atoms, and you need to actually like build these things and integrate them into society. So I think that path takes longer, but it's much more certain. And then there's a path of the internet and just like training these compression models effectively, on trying to compress all the internet. And that might also give these agents as well\"\n",
            "\n",
            "\n",
            "\u001b[1m> Entering new VectorDBQAWithSourcesChain chain...\u001b[0m\n"
          ]
        },
        {
          "output_type": "stream",
          "name": "stderr",
          "text": [
            "DEBUG:Chroma:time to pre process our knn query: 2.1457672119140625e-06\n",
            "DEBUG:Chroma:time to run knn query: 0.0011134147644042969\n"
          ]
        },
        {
          "output_type": "stream",
          "name": "stdout",
          "text": [
            "\n",
            "\u001b[1m> Finished chain.\u001b[0m\n"
          ]
        },
        {
          "output_type": "execute_result",
          "data": {
            "text/plain": [
              "{'answer': ' Yes, Lex mentioned Optimus.', 'sources': ''}"
            ]
          },
          "metadata": {},
          "execution_count": 199
        }
      ]
    }
  ]
}